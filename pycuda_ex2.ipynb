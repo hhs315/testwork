{
 "cells": [
  {
   "cell_type": "code",
   "execution_count": 1,
   "metadata": {},
   "outputs": [],
   "source": [
    "import pycuda.driver as cuda\n",
    "import pycuda.autoinit\n",
    "from pycuda.compiler import SourceModule\n",
    "import numpy as np\n",
    "import os\n",
    "import time\n",
    "import pandas as pd"
   ]
  },
  {
   "cell_type": "code",
   "execution_count": 2,
   "metadata": {},
   "outputs": [],
   "source": [
    "def cal_metric(pro_coord, lig_coord):\n",
    "    sums = 0\n",
    "    for mi in range(3):\n",
    "        sums += (pro_coord[mi] - lig_coord[mi]) ** 2\n",
    "    return np.sqrt(sums)\n",
    "\n",
    "def ES_formula(Q1, Q2, distance):\n",
    "    return Q1 * Q2 / distance"
   ]
  },
  {
   "cell_type": "code",
   "execution_count": 3,
   "metadata": {},
   "outputs": [],
   "source": [
    "pro_molpath = '/home/hhs/thaad/multi/1A4G_pro_mol_moved.csv'\n",
    "lig_molpath = '/home/hhs/thaad/multi/1A4G_lig_mol_moved.csv'\n",
    "\n",
    "grid_molpath = '/home/hhs/thaad/multi/grid_mol.csv'"
   ]
  },
  {
   "cell_type": "code",
   "execution_count": 4,
   "metadata": {},
   "outputs": [],
   "source": [
    "pro_mol = pd.read_csv(pro_molpath)\n",
    "lig_mol = pd.read_csv(lig_molpath)\n",
    "grid_mol = pd.read_csv(grid_molpath)"
   ]
  },
  {
   "cell_type": "code",
   "execution_count": 7,
   "metadata": {},
   "outputs": [
    {
     "name": "stdout",
     "output_type": "stream",
     "text": [
      "time:1909.100\n"
     ]
    }
   ],
   "source": [
    "#option1\n",
    "start = time.time()\n",
    "gr_get = []\n",
    "grid_charge = 1\n",
    "for i in range(len(grid_mol)):\n",
    "    final_energy = 0.0\n",
    "    grid_coord = grid_mol[['x','y','z']].iloc[i]\n",
    "    for j in range(len(pro_mol)):\n",
    "        pro_coord = pro_mol[['x','y','z']].iloc[j]\n",
    "        pro_charge = pro_mol['charge'][j]\n",
    "        distance = cal_metric(grid_coord, pro_coord)\n",
    "        \n",
    "        final_energy +=ES_formula(grid_charge, pro_charge, distance)\n",
    "    gr_get.append(final_energy)\n",
    "    #print('{}th finished.'.format(i))\n",
    "print(\"time:{:.3f}\".format(time.time()-start))"
   ]
  },
  {
   "cell_type": "code",
   "execution_count": 12,
   "metadata": {},
   "outputs": [
    {
     "name": "stdout",
     "output_type": "stream",
     "text": [
      "time:26.543\n"
     ]
    }
   ],
   "source": [
    "#option2\n",
    "start2 = time.time()\n",
    "pro_npys = pro_mol[['x','y','z','charge']].values\n",
    "grid_npy = grid_mol[['x','y','z']].values\n",
    "\n",
    "final_list = []\n",
    "grid_charge = 1\n",
    "for i in range(len(grid_npy)):\n",
    "    gr_np = grid_npy[i]\n",
    "    final_energy = 0.0\n",
    "    for j in range(len(pro_npys)):\n",
    "        pro_coords = pro_npys[j]\n",
    "        pro_coord = pro_coords[:3]\n",
    "        pro_charge = pro_coords[3]\n",
    "        distance = cal_metric(gr_np, pro_coord)\n",
    "        \n",
    "        final_energy +=ES_formula(grid_charge, pro_charge, distance)\n",
    "    final_list.append(final_energy)\n",
    "    \n",
    "print(\"time:{:.3f}\".format(time.time()-start2))"
   ]
  },
  {
   "cell_type": "code",
   "execution_count": 5,
   "metadata": {},
   "outputs": [
    {
     "name": "stdout",
     "output_type": "stream",
     "text": [
      "time:2.052\n"
     ]
    }
   ],
   "source": [
    "#option3\n",
    "start3 = time.time()\n",
    "pro_npys = pro_mol[['x','y','z','charge']].values\n",
    "grid_npy = grid_mol[['x','y','z']].values\n",
    "\n",
    "\n",
    "\n",
    "mod2 = SourceModule(\"\"\"\n",
    "__global__ void doublify2(float *p_a, float *g_a, float *gg_a)\n",
    "{\n",
    "for(int iter=0; iter < 3; iter++)\n",
    "    {\n",
    "    int idx = iter*9261+threadIdx.x+blockDim.x*blockIdx.x;\n",
    "    int chk = threadIdx.x+blockDim.x*blockIdx.x;\n",
    "    \n",
    "    if (chk < 9262)\n",
    "        {\n",
    "        gg_a[chk]+=(p_a[iter]-g_a[idx])*(p_a[iter]-g_a[idx]);\n",
    "        }\n",
    "    }\n",
    "}\"\"\")\n",
    "\n",
    "func = mod2.get_function(\"doublify2\")\n",
    "\n",
    "final_npy = np.zeros(9261)\n",
    "\n",
    "for i in range(len(pro_npys)):\n",
    "    pro_npy = pro_npys[i]\n",
    "    get_npy = np.zeros(9261)\n",
    "    grid_npy = grid_npy.astype(np.float32)\n",
    "    pro_npy = pro_npy.astype(np.float32)\n",
    "    get_npy = get_npy.astype(np.float32)\n",
    "\n",
    "    grid_gpu = cuda.mem_alloc(grid_npy.nbytes)\n",
    "    pro_gpu = cuda.mem_alloc(pro_npy.nbytes)\n",
    "    get_gpu = cuda.mem_alloc(get_npy.nbytes)\n",
    "\n",
    "    cuda.memcpy_htod(grid_gpu,grid_npy)\n",
    "    cuda.memcpy_htod(pro_gpu,pro_npy)\n",
    "    cuda.memcpy_htod(get_gpu,get_npy)\n",
    "\n",
    "\n",
    "    func(pro_gpu,grid_gpu, get_gpu,  block = (128,1,1), grid=(73,1))\n",
    "\n",
    "    cuda.memcpy_dtoh(get_npy,get_gpu)\n",
    "    get_npy1 = pro_npy[3]/np.sqrt(get_npy)\n",
    "    final_npy +=get_npy1\n",
    "print(\"time:{:.3f}\".format(time.time()-start3))"
   ]
  },
  {
   "cell_type": "code",
   "execution_count": 7,
   "metadata": {},
   "outputs": [
    {
     "data": {
      "text/plain": [
       "array([-1.37182189, -1.42579157, -1.47574126, ..., -1.38905514,\n",
       "       -1.33818896, -1.28380211])"
      ]
     },
     "execution_count": 7,
     "metadata": {},
     "output_type": "execute_result"
    }
   ],
   "source": [
    "final_npy"
   ]
  },
  {
   "cell_type": "code",
   "execution_count": 9,
   "metadata": {},
   "outputs": [],
   "source": [
    "import matplotlib.pyplot as plt"
   ]
  },
  {
   "cell_type": "code",
   "execution_count": 18,
   "metadata": {},
   "outputs": [
    {
     "data": {
      "text/plain": [
       "[<matplotlib.lines.Line2D at 0x7f2fe8ae26d8>]"
      ]
     },
     "execution_count": 18,
     "metadata": {},
     "output_type": "execute_result"
    },
    {
     "data": {
      "image/png": "[encoded data removed]",
      "text/plain": [
       "<Figure size 432x288 with 1 Axes>"
      ]
     },
     "metadata": {
      "needs_background": "light"
     },
     "output_type": "display_data"
    }
   ],
   "source": [
    "inds = 100\n",
    "\n",
    "plt.plot(gr_get[:inds])\n",
    "plt.plot(final_list[:inds])\n",
    "plt.plot(final_npy[:inds])\n"
   ]
  },
  {
   "cell_type": "code",
   "execution_count": 19,
   "metadata": {},
   "outputs": [
    {
     "data": {
      "text/plain": [
       "[<matplotlib.lines.Line2D at 0x7f2fe8977860>]"
      ]
     },
     "execution_count": 19,
     "metadata": {},
     "output_type": "execute_result"
    },
    {
     "data": {
      "image/png": "[encoded data removed]",
      "text/plain": [
       "<Figure size 432x288 with 1 Axes>"
      ]
     },
     "metadata": {
      "needs_background": "light"
     },
     "output_type": "display_data"
    }
   ],
   "source": [
    "inds = 6000\n",
    "\n",
    "plt.plot(gr_get[:inds])\n",
    "plt.plot(final_list[:inds])\n",
    "plt.plot(final_npy[:inds])"
   ]
  },
  {
   "cell_type": "code",
   "execution_count": 33,
   "metadata": {},
   "outputs": [
    {
     "name": "stdout",
     "output_type": "stream",
     "text": [
      "time:0.202\n"
     ]
    }
   ],
   "source": [
    "start3 = time.time()\n",
    "pro_npys = pro_mol[['x','y','z','charge']].values\n",
    "grid_npy = grid_mol[['x','y','z']].values\n",
    "\n",
    "\n",
    "\n",
    "mod2 = SourceModule(\"\"\"\n",
    "__global__ void doublify2(float *p_a, float *g_a, float *gg_a)\n",
    "{\n",
    "for(int iter=0; iter < 3; iter++)\n",
    "    {\n",
    "    int idx = iter*9261+threadIdx.x+blockDim.x*blockIdx.x;\n",
    "    int chk = threadIdx.x+blockDim.x*blockIdx.x;\n",
    "    \n",
    "    if (chk < 9262)\n",
    "        {\n",
    "        gg_a[chk]+=(p_a[iter]-g_a[idx])*(p_a[iter]-g_a[idx]);\n",
    "        }\n",
    "    }\n",
    "}\"\"\")\n",
    "\n",
    "func = mod2.get_function(\"doublify2\")\n",
    "\n",
    "final_npy = np.zeros(9261)\n",
    "\n",
    "\n",
    "pro_npy = pro_npys[10]\n",
    "get_npy = np.zeros(9261)\n",
    "grid_npy = grid_npy.astype(np.float32)\n",
    "pro_npy = pro_npy.astype(np.float32)\n",
    "get_npy = get_npy.astype(np.float32)\n",
    "\n",
    "grid_gpu = cuda.mem_alloc(grid_npy.nbytes)\n",
    "pro_gpu = cuda.mem_alloc(pro_npy.nbytes)\n",
    "get_gpu = cuda.mem_alloc(get_npy.nbytes)\n",
    "\n",
    "cuda.memcpy_htod(grid_gpu,grid_npy)\n",
    "cuda.memcpy_htod(pro_gpu,pro_npy)\n",
    "cuda.memcpy_htod(get_gpu,get_npy)\n",
    "\n",
    "\n",
    "func(pro_gpu,grid_gpu, get_gpu,  block = (128,1,1), grid=(73,1))\n",
    "\n",
    "cuda.memcpy_dtoh(get_npy,get_gpu)\n",
    "#get_npy1 = pro_npy[3]/np.sqrt(get_npy)\n",
    "final_npy +=get_npy1\n",
    "print(\"time:{:.3f}\".format(time.time()-start3))"
   ]
  },
  {
   "cell_type": "code",
   "execution_count": 10,
   "metadata": {},
   "outputs": [
    {
     "data": {
      "text/plain": [
       "9261"
      ]
     },
     "execution_count": 10,
     "metadata": {},
     "output_type": "execute_result"
    }
   ],
   "source": [
    "len(final_npy)"
   ]
  },
  {
   "cell_type": "code",
   "execution_count": 31,
   "metadata": {},
   "outputs": [
    {
     "data": {
      "text/plain": [
       "0.0"
      ]
     },
     "execution_count": 31,
     "metadata": {},
     "output_type": "execute_result"
    }
   ],
   "source": [
    "max(get_npy[200:])"
   ]
  },
  {
   "cell_type": "code",
   "execution_count": 35,
   "metadata": {},
   "outputs": [
    {
     "data": {
      "text/plain": [
       "array([254.83246 , 199.2175  , 223.60254 , 283.80273 , 216.18776 ,\n",
       "       364.54794 , 384.93298 , 275.13315 , 203.51817 , 211.90321 ,\n",
       "       218.10341 , 134.48845 , 130.87349 , 207.25853 , 157.45871 ,\n",
       "       315.81888 , 308.20392 , 260.4041  , 160.78915 , 141.17418 ,\n",
       "       209.37436 ,  97.7594  ,  66.14445 , 114.52949 , 126.72966 ,\n",
       "        83.1147  , 259.47488 , 273.67505 , 146.06009 ,  98.44513 ,\n",
       "       130.83017 ,  89.03035 ,  29.41539 ,  49.80043 , 124.00061 ,\n",
       "        52.385654, 238.74583 , 255.13087 , 159.33105 ,  83.716095,\n",
       "        88.10113 , 108.30131 ,  20.686346,  13.071389,  85.456436,\n",
       "        49.65661 ,  33.932953,  38.317997, 104.51817 ,  16.903217,\n",
       "         9.28826 ,  81.6733  , 251.84862 , 160.23366 , 148.6187  ,\n",
       "       160.81888 ,  57.20391 ,  33.58895 ,  89.97399 ,  46.17417 ,\n",
       "        10.559216,  54.944256, 127.14443 , 205.50461 , 165.88965 ,\n",
       "        78.190865,  80.391045,  56.859905,  85.24495 , 103.44513 ,\n",
       "       157.72148 ,  56.215214, 281.51587 ,   0.      ,   0.      ],\n",
       "      dtype=float32)"
      ]
     },
     "execution_count": 35,
     "metadata": {},
     "output_type": "execute_result"
    }
   ],
   "source": [
    "get_npy[0:75]"
   ]
  },
  {
   "cell_type": "code",
   "execution_count": null,
   "metadata": {},
   "outputs": [],
   "source": []
  }
 ],
 "metadata": {
  "kernelspec": {
   "display_name": "Python 3",
   "language": "python",
   "name": "python3"
  },
  "language_info": {
   "codemirror_mode": {
    "name": "ipython",
    "version": 3
   },
   "file_extension": ".py",
   "mimetype": "text/x-python",
   "name": "python",
   "nbconvert_exporter": "python",
   "pygments_lexer": "ipython3",
   "version": "3.7.3"
  }
 },
 "nbformat": 4,
 "nbformat_minor": 2
}
